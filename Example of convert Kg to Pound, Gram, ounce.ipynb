{
 "cells": [
  {
   "cell_type": "code",
   "execution_count": null,
   "id": "b9f4d276",
   "metadata": {},
   "outputs": [],
   "source": [
    "from tkinter import *\n",
    "window=Tk()\n",
    "\n",
    "def from_KG():\n",
    "    gram=float(e2_value.get())*1000\n",
    "    pound=float(e2_value.get())*2.2\n",
    "    ounce=float(e2_value.get())*35.35\n",
    "    t1.delete(\"1.0\",END)\n",
    "    t1.insert(END,gram)\n",
    "    t1.delete(\"1.0\",END)\n",
    "    t1.insert(END,gram)\n",
    "    t2.delete(\"1.0\",END)\n",
    "    t2.insert(END,pound)\n",
    "    t3.delete(\"1.0\",END)\n",
    "    t3.insert(END,ounce)\n",
    "\n",
    "\n",
    "e1=Label(window,text=\"KILOGRAMS\")\n",
    "e1.grid(row=0,column=0)\n",
    "\n",
    "b1=Button(window,text=\"Convert\",command=from_KG)\n",
    "b1.grid(row=0,column=1)\n",
    "\n",
    "e2_value=StringVar()\n",
    "e2=Entry(window,textvariable=e2_value)\n",
    "e2.grid(row=0,column=2)\n",
    "\n",
    "t1=Text(window,height=5,width=15)\n",
    "t1.grid(row=1,column=0)\n",
    "\n",
    "t2=Text(window,height=5,width=15)\n",
    "t2.grid(row=1,column=1)\n",
    "\n",
    "t3=Text(window,height=5,width=15)\n",
    "t3.grid(row=1,column=2)\n",
    "\n",
    "e3=Label(window,text=\"GRAMS\")\n",
    "e3.grid(row=2,column=0)\n",
    "\n",
    "e4=Label(window,text=\"POUND\")\n",
    "e4.grid(row=2,column=1)\n",
    "\n",
    "e5=Label(window,text=\"OUNCE\")\n",
    "e5.grid(row=2,column=2)\n",
    "\n",
    "\n",
    "window.mainloop()"
   ]
  }
 ],
 "metadata": {
  "kernelspec": {
   "display_name": "Python 3 (ipykernel)",
   "language": "python",
   "name": "python3"
  },
  "language_info": {
   "codemirror_mode": {
    "name": "ipython",
    "version": 3
   },
   "file_extension": ".py",
   "mimetype": "text/x-python",
   "name": "python",
   "nbconvert_exporter": "python",
   "pygments_lexer": "ipython3",
   "version": "3.9.7"
  }
 },
 "nbformat": 4,
 "nbformat_minor": 5
}
